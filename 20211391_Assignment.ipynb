{
  "cells": [
    {
      "cell_type": "markdown",
      "source": [
        "# Assignment 04"
      ],
      "metadata": {
        "id": "dKmJVfeaoABo"
      },
      "id": "dKmJVfeaoABo"
    },
    {
      "cell_type": "markdown",
      "id": "d49f05b4",
      "metadata": {
        "id": "d49f05b4"
      },
      "source": [
        "## 1. LeetCode 225. Implement Stack using Queues"
      ]
    },
    {
      "cell_type": "code",
      "execution_count": 1,
      "id": "06f9df42",
      "metadata": {
        "id": "06f9df42"
      },
      "outputs": [],
      "source": [
        "from collections import deque\n",
        "\n",
        "class MyStack:\n",
        "\n",
        "    def __init__(self):\n",
        "        self.q = deque()\n",
        "\n",
        "    def push(self, x: int) -> None:\n",
        "        self.q.append(x)\n",
        "        # 큐의 원소를 한 칸씩 앞으로 보내 마지막에 들어온 원소가 맨 앞에 있도록 회전\n",
        "        for _ in range(len(self.q) - 1):\n",
        "            self.q.append(self.q.popleft())\n",
        "\n",
        "    def pop(self) -> int:\n",
        "        return self.q.popleft()\n",
        "\n",
        "    def top(self) -> int:\n",
        "        return self.q[0]\n",
        "\n",
        "    def empty(self) -> bool:\n",
        "        return not self.q"
      ]
    },
    {
      "cell_type": "markdown",
      "id": "8e614d46",
      "metadata": {
        "id": "8e614d46"
      },
      "source": [
        "## 2. LeetCode 232. Implement Queue using Stacks"
      ]
    },
    {
      "cell_type": "code",
      "execution_count": null,
      "id": "bd98f9ba",
      "metadata": {
        "id": "bd98f9ba"
      },
      "outputs": [],
      "source": [
        "class MyQueue:\n",
        "\n",
        "    def __init__(self):\n",
        "        self.in_stack = []\n",
        "        self.out_stack = []\n",
        "\n",
        "    def push(self, x: int) -> None:\n",
        "        self.in_stack.append(x)\n",
        "\n",
        "    def pop(self) -> int:\n",
        "        self.peek()  # out_stack에 값이 없으면 옮겨줌\n",
        "        return self.out_stack.pop()\n",
        "\n",
        "    def peek(self) -> int:\n",
        "        if not self.out_stack:\n",
        "            while self.in_stack:\n",
        "                self.out_stack.append(self.in_stack.pop())\n",
        "        return self.out_stack[-1]\n",
        "\n",
        "    def empty(self) -> bool:\n",
        "        return not self.in_stack and not self.out_stack"
      ]
    },
    {
      "cell_type": "markdown",
      "source": [
        "## 3. 교재의 큐 연습문제 전부"
      ],
      "metadata": {
        "id": "xgA7IZXhoAdM"
      },
      "id": "xgA7IZXhoAdM"
    },
    {
      "cell_type": "code",
      "source": [
        "### 3.01\n",
        "\n",
        "class ListQueue:\n",
        "    def __init__(self):\n",
        "        self.__queue = []\n",
        "\n",
        "    def enqueue(self, x):\n",
        "        self.__queue.insert(0, x)\n",
        "\n",
        "    def dequeue(self):\n",
        "        return self.__queue.pop()\n",
        "\n",
        "    def front(self):\n",
        "        return self.__queue[-1]\n",
        "\n",
        "    def isEmpty(self) -> bool:\n",
        "        return len(self.__queue) == 0\n",
        "\n",
        "    def dequeueAll(self):\n",
        "        self.__queue.clear()"
      ],
      "metadata": {
        "id": "vpYQliDDoA8i"
      },
      "id": "vpYQliDDoA8i",
      "execution_count": null,
      "outputs": []
    },
    {
      "cell_type": "code",
      "source": [
        "### 3.02\n",
        "from collections import deque\n",
        "\n",
        "def is_in_language(s):\n",
        "    if s.count('$') != 1:\n",
        "        return False\n",
        "\n",
        "    left, right = s.split('$')\n",
        "\n",
        "    q = deque()\n",
        "\n",
        "    for ch in left:\n",
        "        q.append(ch)\n",
        "\n",
        "    for ch in reversed(right):\n",
        "        if not q or q.popleft() != ch:\n",
        "            return False\n",
        "\n",
        "    return not q\n"
      ],
      "metadata": {
        "id": "LF079cP2sGG-"
      },
      "id": "LF079cP2sGG-",
      "execution_count": null,
      "outputs": []
    },
    {
      "cell_type": "code",
      "source": [
        "### 3.03\n",
        "\n",
        "def copy_queue(a, b):\n",
        "    temp = LinkedQueue()\n",
        "\n",
        "    while not a.is_empty():\n",
        "        data = a.peek()\n",
        "        a.dequeue()\n",
        "\n",
        "        temp.enqueue(data)\n",
        "        b.enqueue(data)\n",
        "\n",
        "    while not temp.is_empty():\n",
        "        data = temp.peek()\n",
        "        temp.dequeue()\n",
        "\n",
        "        a.enqueue(data)"
      ],
      "metadata": {
        "id": "WtKjZXjEtWzv"
      },
      "id": "WtKjZXjEtWzv",
      "execution_count": null,
      "outputs": []
    },
    {
      "cell_type": "code",
      "source": [
        "### 3.04\n",
        "\n",
        "from collections import deque\n",
        "\n",
        "class StackUsingQueues:\n",
        "    def __init__(self):\n",
        "        self.q1 = deque()\n",
        "        self.q2 = deque()\n",
        "\n",
        "    def push(self, x):\n",
        "        self.q1.append(x)  # 그냥 q1에 넣음\n",
        "\n",
        "    def pop(self):\n",
        "        if not self.q1:\n",
        "            raise IndexError(\"pop from empty stack\")\n",
        "\n",
        "        # q1에 하나만 남을 때까지 q2로 옮김\n",
        "        while len(self.q1) > 1:\n",
        "            self.q2.append(self.q1.popleft())\n",
        "\n",
        "        # 마지막 하나가 스택에서 꺼낼 값\n",
        "        popped = self.q1.popleft()\n",
        "\n",
        "        # q1과 q2를 바꿈 (q1이 항상 주요 큐)\n",
        "        self.q1, self.q2 = self.q2, self.q1\n",
        "\n",
        "        return popped\n",
        "\n",
        "    def top(self):\n",
        "        if not self.q1:\n",
        "            raise IndexError(\"top from empty stack\")\n",
        "\n",
        "        while len(self.q1) > 1:\n",
        "            self.q2.append(self.q1.popleft())\n",
        "\n",
        "        top_elem = self.q1.popleft()\n",
        "        self.q2.append(top_elem)\n",
        "\n",
        "        self.q1, self.q2 = self.q2, self.q1\n",
        "        return top_elem\n",
        "\n",
        "    def is_empty(self):\n",
        "        return not self.q1"
      ],
      "metadata": {
        "id": "Eog2ybomuDkd"
      },
      "id": "Eog2ybomuDkd",
      "execution_count": null,
      "outputs": []
    },
    {
      "cell_type": "code",
      "source": [
        "### 3.05\n",
        "\n",
        "class QueueUsingStacks:\n",
        "    def __init__(self):\n",
        "        self.stack_in = []\n",
        "        self.stack_out = []\n",
        "\n",
        "    def enqueue(self, x):\n",
        "        self.stack_in.append(x)\n",
        "\n",
        "    def dequeue(self):\n",
        "        if not self.stack_out:\n",
        "            if not self.stack_in:\n",
        "                raise IndexError(\"dequeue from empty queue\")\n",
        "            # stack_in -> stack_out\n",
        "            while self.stack_in:\n",
        "                self.stack_out.append(self.stack_in.pop())\n",
        "\n",
        "        return self.stack_out.pop()\n",
        "\n",
        "    def peek(self):\n",
        "        if not self.stack_out:\n",
        "            if not self.stack_in:\n",
        "                raise IndexError(\"peek from empty queue\")\n",
        "            while self.stack_in:\n",
        "                self.stack_out.append(self.stack_in.pop())\n",
        "        return self.stack_out[-1]\n",
        "\n",
        "    def is_empty(self):\n",
        "        return not self.stack_in and not self.stack_out\n"
      ],
      "metadata": {
        "id": "OuTAw6hnuJs6"
      },
      "id": "OuTAw6hnuJs6",
      "execution_count": null,
      "outputs": []
    },
    {
      "cell_type": "code",
      "source": [
        "### 3.06\n",
        "\n",
        "각각 수행시간은 모두 O(1)씩 걸린다."
      ],
      "metadata": {
        "id": "5PVhTAwQuLnR"
      },
      "id": "5PVhTAwQuLnR",
      "execution_count": null,
      "outputs": []
    },
    {
      "cell_type": "code",
      "source": [
        "### 3.07\n",
        "\n",
        "enqueue()는 O(1), dequeue()도 O(1) 이다."
      ],
      "metadata": {
        "id": "YoT97csluNdP"
      },
      "id": "YoT97csluNdP",
      "execution_count": null,
      "outputs": []
    },
    {
      "cell_type": "code",
      "source": [
        "### 3.08\n",
        "\n",
        "class Deque:\n",
        "    def __init__(self):\n",
        "        self.__deque = []\n",
        "\n",
        "    def enqueueFront(self, x):\n",
        "        self.__deque.insert(0, x)\n",
        "\n",
        "    def enqueueRear(self, x):\n",
        "        self.__deque.append(x)\n",
        "\n",
        "    def dequeueFront(self):\n",
        "        if self.isEmpty():\n",
        "            return None\n",
        "        return self.__deque.pop(0)\n",
        "\n",
        "    def dequeueRear(self):\n",
        "        if self.isEmpty():\n",
        "            return None\n",
        "        return self.__deque.pop()\n",
        "\n",
        "    def front(self):\n",
        "        if self.isEmpty():\n",
        "            return None\n",
        "        return self.__deque[0]\n",
        "\n",
        "    def rear(self):\n",
        "        if self.isEmpty():\n",
        "            return None\n",
        "        return self.__deque[-1]\n",
        "\n",
        "    def isEmpty(self) -> bool:\n",
        "        return len(self.__deque) == 0\n",
        "\n",
        "    def dequeueAll(self):\n",
        "        self.__deque.clear()\n",
        "\n",
        "    def printDeque(self):\n",
        "        print(\"Deque from front:\", end=' ')\n",
        "        for item in self.__deque:\n",
        "            print(item, end=' ')\n",
        "        print()\n"
      ],
      "metadata": {
        "id": "DM1Bes7IuPYD"
      },
      "id": "DM1Bes7IuPYD",
      "execution_count": null,
      "outputs": []
    },
    {
      "cell_type": "markdown",
      "source": [
        "# Assignment 05\n"
      ],
      "metadata": {
        "id": "h9FjlKEXoLCr"
      },
      "id": "h9FjlKEXoLCr"
    },
    {
      "cell_type": "markdown",
      "source": [
        "## 3. 생일 데이터를 교재 코드를 이용해 힙으로 저장하고, 생일이 느린 순서로 10명의 친구를 출력하는 코드를 작성한다."
      ],
      "metadata": {
        "id": "7SDswnRdoR-i"
      },
      "id": "7SDswnRdoR-i"
    },
    {
      "cell_type": "code",
      "source": [
        "class Heap:\n",
        "    def __init__(self, *args):\n",
        "        if len(args) != 0:\n",
        "            self.__A = args[0]\n",
        "        else:\n",
        "            self.__A = []\n",
        "\n",
        "    def insert(self, x):\n",
        "        self.__A.append(x)\n",
        "        self.__percolateUp(len(self.__A)-1)\n",
        "\n",
        "    def __percolateUp(self, i:int):\n",
        "        parent = (i - 1) // 2\n",
        "        if i > 0 and self.__A[i] > self.__A[parent]:\n",
        "            self.__A[i], self.__A[parent] = self.__A[parent], self.__A[i]\n",
        "            self.__percolateUp(parent)\n",
        "\n",
        "    def deleteMax(self):\n",
        "        if (not self.isEmpty()):\n",
        "            max = self.__A[0]\n",
        "            self.__A[0] = self.__A.pop()\n",
        "            self.__percolateDown(0)\n",
        "            return max\n",
        "        else:\n",
        "            return None\n",
        "\n",
        "    def __percolateDown(self, i:int):\n",
        "        child = 2 * i + 1\n",
        "        right = 2 * i + 2\n",
        "        if (child <= len(self.__A)-1):\n",
        "            if (right <= len(self.__A)-1 and self.__A[child] < self.__A[right]):\n",
        "                child = right\n",
        "            if self.__A[i] < self.__A[child]:\n",
        "                self.__A[i], self.__A[child] = self.__A[child], self.__A[i]\n",
        "                self.__percolateDown(child)\n",
        "\n",
        "    def max(self):\n",
        "        return self.__A[0]\n",
        "\n",
        "    def buildHeap(self):\n",
        "        for i in range((len(self.__A) - 2) // 2, -1, -1):\n",
        "            self.__percolateDown(i)\n",
        "\n",
        "    def isEmpty(self) -> bool:\n",
        "        return len(self.__A) == 0\n",
        "\n",
        "    def clear(self):\n",
        "        self.__A = []\n",
        "\n",
        "    def size(self) -> int:\n",
        "        return len(self.__A)\n",
        "\n",
        "\n",
        "\n",
        "import csv\n",
        "from datetime import datetime\n",
        "\n",
        "heap = Heap()\n",
        "file_path = \"Birthday.csv\"\n",
        "\n",
        "h = Heap()\n",
        "\n",
        "with open(file_path, newline='', encoding='utf-8') as csvfile:\n",
        "    reader = csv.reader(csvfile)\n",
        "    next(reader)  # 헤더 건너뜀\n",
        "\n",
        "    for row in reader:\n",
        "        if len(row) < 3:\n",
        "            continue  # 데이터가 부족한 줄은 건너뜀\n",
        "\n",
        "        name = row[1]\n",
        "        birth_str = row[2].strip()[:8]  # 생년월일 앞 8자리만 사용 (YYYYMMDD)\n",
        "\n",
        "        try:\n",
        "            birth_date = datetime.strptime(birth_str, \"%Y%m%d\")\n",
        "            month = birth_date.month\n",
        "            day = birth_date.day\n",
        "\n",
        "            # 12월 31일 기준으로 가장 늦은 생일이 높은 값\n",
        "            days_from_start = (month - 1) * 31 + day\n",
        "            h.insert((days_from_start, name, birth_str))\n",
        "        except ValueError:\n",
        "            continue  # 날짜 형식이 이상하면 건너뜀\n",
        "\n",
        "print(\"생일이 늦은 순서로 10명의 친구\")\n",
        "for _ in range(10):\n",
        "    if not h.isEmpty():\n",
        "        _, name, birth = h.deleteMax()\n",
        "        print(f\"{name} - {birth}\")\n",
        "\n"
      ],
      "metadata": {
        "colab": {
          "base_uri": "https://localhost:8080/"
        },
        "id": "f2Qbv_5VqDPY",
        "outputId": "371476c6-63d4-406e-d005-947ae3c9a9b3"
      },
      "id": "f2Qbv_5VqDPY",
      "execution_count": 17,
      "outputs": [
        {
          "output_type": "stream",
          "name": "stdout",
          "text": [
            "생일이 늦은 순서로 10명의 친구\n",
            "신수민 - 20051230\n",
            "강주영 - 20041228\n",
            "이서영 - 20051225\n",
            "이예림 - 20021215\n",
            "강민주 - 20051214\n",
            "임성민 - 20021213\n",
            "김효리 - 20011212\n",
            "김수민 - 20041207\n",
            "신다연 - 20041206\n",
            "안양준 - 19851205\n"
          ]
        }
      ]
    },
    {
      "cell_type": "markdown",
      "source": [
        "## 4. 생일 데이터를 교재코드를 이용해 리스트로 저장하고, 같은 조의 친구들만 이름과 생년월일을 출력하는 코드를 작성한다."
      ],
      "metadata": {
        "id": "V7QjHD--oj-e"
      },
      "id": "V7QjHD--oj-e"
    },
    {
      "cell_type": "code",
      "source": [
        "import csv\n",
        "from datetime import datetime\n",
        "\n",
        "# BidirectNode 클래스 정의\n",
        "class BidirectNode:\n",
        "    def __init__(self, item, prev=None, next=None):\n",
        "        self.item = item\n",
        "        self.prev = prev\n",
        "        self.next = next\n",
        "\n",
        "# CircularDoublyLinkedList 클래스 정의\n",
        "class CircularDoublyLinkedList:\n",
        "    def __init__(self):\n",
        "        self.__head = BidirectNode(\"dummy\", None, None)\n",
        "        self.__head.prev = self.__head\n",
        "        self.__head.next = self.__head\n",
        "        self.__numItems = 0\n",
        "\n",
        "    def append(self, newItem) -> None:\n",
        "        prev = self.__head.prev\n",
        "        newNode = BidirectNode(newItem, prev, self.__head)\n",
        "        prev.next = newNode\n",
        "        self.__head.prev = newNode\n",
        "        self.__numItems += 1\n",
        "\n",
        "    def __iter__(self):\n",
        "        current = self.__head.next\n",
        "        while current != self.__head:\n",
        "            yield current.item\n",
        "            current = current.next\n",
        "\n",
        "\n",
        "# 주어진 친구 목록\n",
        "group_members = [\n",
        "    \"이원진\", \"박찬미\", \"박혜린\", \"전민서\", \"임서영\", \"이서현\", \"안소민\", \"이채민\",\n",
        "    \"이예림\", \"이수빈\", \"김효리\", \"이지영\", \"이진\", \"김나림\", \"이가연\"\n",
        "]\n",
        "\n",
        "# 생일 데이터를 저장할 Circular Doubly Linked List\n",
        "birthday_list = CircularDoublyLinkedList()\n",
        "\n",
        "# CSV 파일에서 데이터 읽기\n",
        "def read_birthday_data(filename):\n",
        "    with open(filename, mode='r', encoding='utf-8') as file:\n",
        "        reader = csv.reader(file)\n",
        "        next(reader)  # 헤더 건너뛰기\n",
        "        for row in reader:\n",
        "            student_id, name, birthday = row\n",
        "            if name in group_members:\n",
        "                # 생일이 없는 경우 \"값 비어있음\"으로 처리\n",
        "                birthday = birthday if birthday else \"값 비어있음\"\n",
        "                birthday_list.append((name, birthday))\n",
        "\n",
        "# 출력 함수\n",
        "def print_birthdays():\n",
        "    print(\"같은 조의 친구들 생일:\")\n",
        "    for member in group_members:\n",
        "        found = False\n",
        "        for item in birthday_list:\n",
        "            name, birthday = item\n",
        "            if name == member:\n",
        "                print(f\"{name}: {birthday}\")\n",
        "                found = True\n",
        "                break\n",
        "        if not found:\n",
        "            print(f\"{member}: 값 비어있음\")\n",
        "\n",
        "# 생일 데이터 읽기\n",
        "read_birthday_data('Birthday.csv')\n",
        "\n",
        "# 생일 출력\n",
        "print_birthdays()\n"
      ],
      "metadata": {
        "colab": {
          "base_uri": "https://localhost:8080/"
        },
        "id": "nhljzZVEv2Hk",
        "outputId": "dcf0f2c9-9181-4b13-86f7-c1eccc38cfac"
      },
      "id": "nhljzZVEv2Hk",
      "execution_count": 19,
      "outputs": [
        {
          "output_type": "stream",
          "name": "stdout",
          "text": [
            "같은 조의 친구들 생일:\n",
            "이원진: 20050602\n",
            "박찬미: 20000507\n",
            "박혜린: 20030603\n",
            "전민서: 20040318\n",
            "임서영: 20050207\n",
            "이서현: 20040609\n",
            "안소민: 20040420\n",
            "이채민: 값 비어있음\n",
            "이예림: 20021215\n",
            "이수빈: 20040910\n",
            "김효리: 20011212\n",
            "이지영: 값 비어있음\n",
            "이진: 20020415\n",
            "김나림: 20030805\n",
            "이가연: 20040927\n"
          ]
        }
      ]
    },
    {
      "cell_type": "markdown",
      "source": [
        "## 5. 교재 8장 우선 순위 큐 연습문제 모두 풀기"
      ],
      "metadata": {
        "id": "VbByaE3kov4X"
      },
      "id": "VbByaE3kov4X"
    },
    {
      "cell_type": "markdown",
      "source": [
        "### 1번 문제. 더 얕은 곳에 있는 원소가 더 깊은 곳에 있는 원소보다 더 작은 값을 가질 수 없다.\n"
      ],
      "metadata": {
        "id": "p0RKaFedwS0d"
      },
      "id": "p0RKaFedwS0d"
    },
    {
      "cell_type": "markdown",
      "source": [
        "### 2번 문제. A[n-1]이 항상 가장 작은 값이 되는 것은 아니다."
      ],
      "metadata": {
        "id": "xn_YB5qQww2C"
      },
      "id": "xn_YB5qQww2C"
    },
    {
      "cell_type": "markdown",
      "source": [
        "### 3번 문제. n/2개"
      ],
      "metadata": {
        "id": "byKMNXWRxMcv"
      },
      "id": "byKMNXWRxMcv"
    },
    {
      "cell_type": "markdown",
      "source": [
        "### 4번 문제. 최악의 경우 시간 복잡도: Θ(n log n), 최선의 경우 시간 복잡도: Θ(n)"
      ],
      "metadata": {
        "id": "xO28LhNYxh7J"
      },
      "id": "xO28LhNYxh7J"
    },
    {
      "cell_type": "markdown",
      "source": [
        "### 5번 문제. 간단한 일이다."
      ],
      "metadata": {
        "id": "L3SrT-o3x3nL"
      },
      "id": "L3SrT-o3x3nL"
    },
    {
      "cell_type": "markdown",
      "source": [
        "### 6번 문제. 스며내리기 방식은 전체 시간 복잡도가 O(n)이고, 스며오르기 방식은 전체 시간 복잡도가 O(n log n)이다. 위에서 아래로 스며오르기 방식은 buildHeap()을 만들 때 비효율적이며, buildHeap()에서 아래에서 위로 스며내리기 방식이 훨씬 더 효율적이다."
      ],
      "metadata": {
        "id": "4q4DbfFtyNSy"
      },
      "id": "4q4DbfFtyNSy"
    },
    {
      "cell_type": "markdown",
      "source": [
        "### 7번 문제. 최대 힙에서 임의의 원소 값이 증가했을 때, 이를 반영하려면 스며오르기 연산을 사용한다. 값이 증가한 원소를 루트에서부터 부모 노드와 비교하여, 부모 노드보다 크면 두 값을 교환하고, 교환된 원소는 부모 노드 위치로 이동하여 이 과정을 반복한다. 이 방식은 힙의 특성을 유지하면서 원소의 값 증가를 처리하며, 트리의 높이가 log n이므로 이 연산은 O(log n) 시간에 완료된다."
      ],
      "metadata": {
        "id": "EqlBdeMFzQlo"
      },
      "id": "EqlBdeMFzQlo"
    },
    {
      "cell_type": "markdown",
      "source": [
        "## 6. LeetCode 703.Kth Largest Element in Stream 문제 풀기"
      ],
      "metadata": {
        "id": "RNFpnlV_o0r6"
      },
      "id": "RNFpnlV_o0r6"
    },
    {
      "cell_type": "code",
      "source": [
        "import heapq\n",
        "\n",
        "class KthLargest:\n",
        "\n",
        "    def __init__(self, k: int, nums: list[int]):\n",
        "        self.k = k\n",
        "        self.min_heap = []\n",
        "\n",
        "        # 초기 nums 배열을 이용해 최소 힙을 구성\n",
        "        for num in nums:\n",
        "            heapq.heappush(self.min_heap, num)\n",
        "\n",
        "        # 최소 힙의 크기가 k보다 크면 루트 값을 제거하여 크기를 k로 맞추기\n",
        "        while len(self.min_heap) > k:\n",
        "            heapq.heappop(self.min_heap)\n",
        "\n",
        "    def add(self, val: int) -> int:\n",
        "        # 새로운 값을 최소 힙에 추가\n",
        "        heapq.heappush(self.min_heap, val)\n",
        "\n",
        "        # 힙의 크기가 k보다 크면 루트 값을 제거하여 크기를 k로 맞추기\n",
        "        if len(self.min_heap) > self.k:\n",
        "            heapq.heappop(self.min_heap)\n",
        "\n",
        "        # k번째로 큰 값은 최소 힙의 루트에 위치\n",
        "        return self.min_heap[0]\n"
      ],
      "metadata": {
        "id": "yZM9luwz0P6l"
      },
      "id": "yZM9luwz0P6l",
      "execution_count": 20,
      "outputs": []
    }
  ],
  "metadata": {
    "colab": {
      "provenance": [],
      "collapsed_sections": [
        "dKmJVfeaoABo",
        "d49f05b4",
        "8e614d46",
        "xgA7IZXhoAdM"
      ]
    },
    "language_info": {
      "name": "python"
    },
    "kernelspec": {
      "name": "python3",
      "display_name": "Python 3"
    }
  },
  "nbformat": 4,
  "nbformat_minor": 5
}